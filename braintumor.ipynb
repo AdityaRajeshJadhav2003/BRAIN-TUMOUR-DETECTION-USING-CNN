{
 "cells": [
  {
   "cell_type": "code",
   "execution_count": 2,
   "metadata": {
    "id": "fOGai8_BZ1yL"
   },
   "outputs": [],
   "source": [
    "import os\n",
    "import tensorflow as tf\n",
    "from tensorflow.keras.models import Sequential\n",
    "from tensorflow.keras.layers import Conv2D, MaxPooling2D, Flatten, Dense\n",
    "from tensorflow.keras.preprocessing.image import ImageDataGenerator"
   ]
  },
  {
   "cell_type": "code",
   "execution_count": 3,
   "metadata": {
    "id": "pyxd8LMpZ1yQ"
   },
   "outputs": [],
   "source": [
    "\n",
    "# Set the paths to the training and testing datasets\n",
    "train_data_dir = r\"C:\\Users\\ADITYA\\Desktop\\Brain tumor detection\\Training\"\n",
    "test_data_dir = r\"C:\\Users\\ADITYA\\Desktop\\Brain tumor detection\\Testing\"\n"
   ]
  },
  {
   "cell_type": "code",
   "execution_count": 4,
   "metadata": {
    "id": "hQp6-jEFZ1yR"
   },
   "outputs": [],
   "source": [
    "# Set the input shape of the images\n",
    "input_shape = (150, 150, 3)  # Adjust the dimensions as per your dataset"
   ]
  },
  {
   "cell_type": "code",
   "execution_count": 5,
   "metadata": {
    "id": "kdk5SDJXZ1yR"
   },
   "outputs": [],
   "source": [
    "# Set the number of classes\n",
    "num_classes = 4  # glioma_tumor, meningioma_tumor, pituitary_tumor, no_tumor"
   ]
  },
  {
   "cell_type": "code",
   "execution_count": 6,
   "metadata": {
    "id": "DKwGEqHZZ1yS"
   },
   "outputs": [],
   "source": [
    "# Set the batch size and number of epochs\n",
    "batch_size = 17\n",
    "epochs = 20"
   ]
  },
  {
   "cell_type": "code",
   "execution_count": 7,
   "metadata": {
    "id": "FNAcXPrGZ1yT"
   },
   "outputs": [],
   "source": [
    "train_datagen = ImageDataGenerator(\n",
    "    rescale=1.0 / 255,  # Normalize pixel values to [0, 1]\n",
    "    rotation_range=15,  # Randomly rotate images\n",
    "    width_shift_range=0.1,  # Randomly shift images horizontally\n",
    "    height_shift_range=0.1,  # Randomly shift images vertically\n",
    "    shear_range=0.1,  # Apply shear transformation\n",
    "    zoom_range=0.1,  # Apply zoom transformation\n",
    "    horizontal_flip=True,  # Flip images horizontally\n",
    "    fill_mode=\"nearest\"  # Fill missing pixels after transformation\n",
    ")"
   ]
  },
  {
   "cell_type": "code",
   "execution_count": 8,
   "metadata": {
    "id": "RwEIGz98Z1yU"
   },
   "outputs": [],
   "source": [
    "test_datagen = ImageDataGenerator(rescale=1.0 / 255)"
   ]
  },
  {
   "cell_type": "code",
   "execution_count": 9,
   "metadata": {
    "id": "secnOnOxZ1yU",
    "outputId": "22d83bf1-f1c9-4d4d-9048-74376dd8dbec"
   },
   "outputs": [
    {
     "name": "stdout",
     "output_type": "stream",
     "text": [
      "Found 5712 images belonging to 4 classes.\n"
     ]
    }
   ],
   "source": [
    "# Load the training dataset\n",
    "train_dataset = train_datagen.flow_from_directory(\n",
    "    train_data_dir,\n",
    "    target_size=input_shape[:2],\n",
    "    batch_size=batch_size,\n",
    "    class_mode='categorical'\n",
    ")"
   ]
  },
  {
   "cell_type": "code",
   "execution_count": 10,
   "metadata": {
    "id": "4HTxREy2Z1yV",
    "outputId": "bff4c0f1-549c-49dd-c894-dfd3d6ae9511"
   },
   "outputs": [
    {
     "name": "stdout",
     "output_type": "stream",
     "text": [
      "Found 1311 images belonging to 4 classes.\n"
     ]
    }
   ],
   "source": [
    "\n",
    "# Load the testing dataset\n",
    "test_dataset = test_datagen.flow_from_directory(\n",
    "    test_data_dir,\n",
    "    target_size=input_shape[:2],\n",
    "    batch_size=batch_size,\n",
    "    class_mode='categorical'\n",
    ")"
   ]
  },
  {
   "cell_type": "code",
   "execution_count": 11,
   "metadata": {
    "id": "q8LRoeE7Z1yW"
   },
   "outputs": [],
   "source": [
    "# Build the CNN model\n",
    "model = Sequential()\n",
    "model.add(Conv2D(32, kernel_size=(3, 3), activation='relu', input_shape=input_shape))\n",
    "model.add(MaxPooling2D(pool_size=(2, 2)))\n",
    "model.add(Conv2D(64, kernel_size=(3, 3), activation='relu'))\n",
    "model.add(MaxPooling2D(pool_size=(2, 2)))\n",
    "model.add(Conv2D(128, kernel_size=(3, 3), activation='relu'))\n",
    "model.add(MaxPooling2D(pool_size=(2, 2)))\n",
    "\n",
    "model.add(Flatten())\n",
    "\n",
    "model.add(Dense(256, activation='relu'))\n",
    "model.add(Dense(num_classes, activation='softmax'))\n"
   ]
  },
  {
   "cell_type": "code",
   "execution_count": 12,
   "metadata": {
    "id": "HX5eslSyZ1yX"
   },
   "outputs": [],
   "source": [
    "\n",
    "model.compile(optimizer='adam', loss='categorical_crossentropy', metrics=['accuracy'])"
   ]
  },
  {
   "cell_type": "code",
   "execution_count": 13,
   "metadata": {
    "id": "D0yS89bfZ1yX",
    "outputId": "85ab9375-7c88-4b9b-8db3-6792cbdb6d29"
   },
   "outputs": [
    {
     "name": "stdout",
     "output_type": "stream",
     "text": [
      "Epoch 1/20\n",
      "336/336 [==============================] - 181s 533ms/step - loss: 0.7942 - accuracy: 0.6681\n",
      "Epoch 2/20\n",
      "336/336 [==============================] - 181s 537ms/step - loss: 0.5742 - accuracy: 0.7708\n",
      "Epoch 3/20\n",
      "336/336 [==============================] - 175s 520ms/step - loss: 0.4931 - accuracy: 0.8076\n",
      "Epoch 4/20\n",
      "336/336 [==============================] - 186s 553ms/step - loss: 0.4456 - accuracy: 0.8295\n",
      "Epoch 5/20\n",
      "336/336 [==============================] - 182s 542ms/step - loss: 0.4091 - accuracy: 0.8381\n",
      "Epoch 6/20\n",
      "336/336 [==============================] - 180s 536ms/step - loss: 0.3711 - accuracy: 0.8549\n",
      "Epoch 7/20\n",
      "336/336 [==============================] - 527s 2s/step - loss: 0.3397 - accuracy: 0.8697\n",
      "Epoch 8/20\n",
      "336/336 [==============================] - 181s 539ms/step - loss: 0.3363 - accuracy: 0.8727\n",
      "Epoch 9/20\n",
      "336/336 [==============================] - 180s 536ms/step - loss: 0.2997 - accuracy: 0.8838\n",
      "Epoch 10/20\n",
      "336/336 [==============================] - 180s 535ms/step - loss: 0.2627 - accuracy: 0.8983\n",
      "Epoch 11/20\n",
      "336/336 [==============================] - 180s 534ms/step - loss: 0.2627 - accuracy: 0.9028\n",
      "Epoch 12/20\n",
      "336/336 [==============================] - 180s 535ms/step - loss: 0.2450 - accuracy: 0.9088\n",
      "Epoch 13/20\n",
      "336/336 [==============================] - 180s 535ms/step - loss: 0.2303 - accuracy: 0.9135\n",
      "Epoch 14/20\n",
      "336/336 [==============================] - 184s 546ms/step - loss: 0.2057 - accuracy: 0.9207\n",
      "Epoch 15/20\n",
      "336/336 [==============================] - 186s 553ms/step - loss: 0.1974 - accuracy: 0.9259\n",
      "Epoch 16/20\n",
      "336/336 [==============================] - 185s 550ms/step - loss: 0.1910 - accuracy: 0.9303\n",
      "Epoch 17/20\n",
      "336/336 [==============================] - 185s 551ms/step - loss: 0.1644 - accuracy: 0.9387\n",
      "Epoch 18/20\n",
      "336/336 [==============================] - 184s 549ms/step - loss: 0.1559 - accuracy: 0.9422\n",
      "Epoch 19/20\n",
      "336/336 [==============================] - 184s 548ms/step - loss: 0.1499 - accuracy: 0.9452\n",
      "Epoch 20/20\n",
      "336/336 [==============================] - 184s 546ms/step - loss: 0.1419 - accuracy: 0.9471\n"
     ]
    },
    {
     "data": {
      "text/plain": [
       "<keras.src.callbacks.History at 0x297b8c15a10>"
      ]
     },
     "execution_count": 13,
     "metadata": {},
     "output_type": "execute_result"
    }
   ],
   "source": [
    "model.fit(train_dataset, epochs=epochs)"
   ]
  },
  {
   "cell_type": "code",
   "execution_count": 14,
   "metadata": {
    "id": "W9ktp1bXZ1yY",
    "outputId": "ad7e328f-c6f7-4267-fb58-b2320a3400e0"
   },
   "outputs": [
    {
     "name": "stdout",
     "output_type": "stream",
     "text": [
      "78/78 [==============================] - 12s 150ms/step - loss: 0.1833 - accuracy: 0.9367\n",
      "Test Loss: 0.18332692980766296\n",
      "Test Accuracy: 0.936689555644989\n"
     ]
    }
   ],
   "source": [
    "test_loss, test_accuracy = model.evaluate(test_dataset)\n",
    "print(\"Test Loss:\", test_loss)\n",
    "print(\"Test Accuracy:\", test_accuracy)"
   ]
  },
  {
   "cell_type": "code",
   "execution_count": 15,
   "metadata": {
    "id": "jizg-J1tZ1yY",
    "outputId": "fc79ff92-38dd-47e2-8934-7b66e655db11"
   },
   "outputs": [
    {
     "name": "stderr",
     "output_type": "stream",
     "text": [
      "C:\\Users\\ADITYA\\AppData\\Roaming\\Python\\Python311\\site-packages\\keras\\src\\engine\\training.py:3079: UserWarning: You are saving your model as an HDF5 file via `model.save()`. This file format is considered legacy. We recommend using instead the native Keras format, e.g. `model.save('my_model.keras')`.\n",
      "  saving_api.save_model(\n"
     ]
    },
    {
     "name": "stdout",
     "output_type": "stream",
     "text": [
      "Model saved successfully.\n"
     ]
    }
   ],
   "source": [
    "# Define the path to save the model\n",
    "model_path = r\"C:\\Users\\ADITYA\\Desktop\\Brain tumor detection\\saved_model.h5\"  # Replace with your desired path and file name\n",
    "\n",
    "# Save the model\n",
    "model.save(model_path)\n",
    "\n",
    "print(\"Model saved successfully.\")"
   ]
  },
  {
   "cell_type": "code",
   "execution_count": 18,
   "metadata": {
    "id": "PGHAcmG8Z1yY",
    "outputId": "fd1876b4-08e2-4ae9-856a-fafd8c278726"
   },
   "outputs": [
    {
     "name": "stdout",
     "output_type": "stream",
     "text": [
      "1/1 [==============================] - 0s 260ms/step\n",
      "Predicted class: meningioma_tumor\n"
     ]
    }
   ],
   "source": [
    "import os\n",
    "import numpy as np\n",
    "import tensorflow as tf\n",
    "from tensorflow.keras.models import load_model\n",
    "from tensorflow.keras.preprocessing.image import load_img, img_to_array\n",
    "\n",
    "# Set the path to the saved model\n",
    "model_path = r\"C:\\Users\\ADITYA\\Desktop\\Brain tumor detection\\saved_model.h5\"  # Replace with your desired path and file name\n",
    "\n",
    "\n",
    "# Set the input shape of the images\n",
    "input_shape = (150, 150, 3)  # Adjust the dimensions as per your dataset\n",
    "\n",
    "# Set the class labels\n",
    "class_labels = [\"glioma_tumor\", \"meningioma_tumor\", \"no_tumor\", \"pituitary_tumor\"]\n",
    "\n",
    "# Load the saved model\n",
    "model = load_model(model_path)\n",
    "\n",
    "# Function to preprocess the input image\n",
    "def preprocess_image(image_path, input_shape):\n",
    "    img = load_img(image_path, target_size=input_shape[:2])\n",
    "    img_array = img_to_array(img)\n",
    "    img_array = np.expand_dims(img_array, axis=0)\n",
    "    img_array /= 255.0  # Normalize pixel values to [0, 1]\n",
    "    return img_array\n",
    "\n",
    "# Set the path to the image you want to predict\n",
    "image_path = r\"C:\\Users\\ADITYA\\Desktop\\Brain tumor detection\\Testing\\meningioma\\Te-me_0026.jpg\"  # Replace with the path to your test image\n",
    "\n",
    "# Preprocess the image\n",
    "input_image = preprocess_image(image_path, input_shape)\n",
    "\n",
    "# Make predictions\n",
    "predictions = model.predict(input_image)\n",
    "\n",
    "# Get the predicted class label\n",
    "predicted_class_index = np.argmax(predictions[0])\n",
    "predicted_class = class_labels[predicted_class_index]\n",
    "\n",
    "# Print the predicted class label\n",
    "print(\"Predicted class:\", predicted_class)\n"
   ]
  },
  {
   "cell_type": "code",
   "execution_count": null,
   "metadata": {},
   "outputs": [],
   "source": []
  }
 ],
 "metadata": {
  "colab": {
   "provenance": []
  },
  "kernelspec": {
   "display_name": "Python 3 (ipykernel)",
   "language": "python",
   "name": "python3"
  },
  "language_info": {
   "codemirror_mode": {
    "name": "ipython",
    "version": 3
   },
   "file_extension": ".py",
   "mimetype": "text/x-python",
   "name": "python",
   "nbconvert_exporter": "python",
   "pygments_lexer": "ipython3",
   "version": "3.11.5"
  }
 },
 "nbformat": 4,
 "nbformat_minor": 1
}
